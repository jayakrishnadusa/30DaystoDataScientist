{
 "cells": [
  {
   "cell_type": "code",
   "execution_count": 4,
   "id": "1c8f6bf5-6ba1-4dcc-94e9-247568fd3be1",
   "metadata": {},
   "outputs": [],
   "source": [
    "import pandas as pd\n",
    "import numpy as np"
   ]
  },
  {
   "cell_type": "code",
   "execution_count": 19,
   "id": "d1eda086-49c9-4f49-ab7e-4e834d5377e9",
   "metadata": {},
   "outputs": [],
   "source": [
    "miles=pd.DataFrame({\"farthest_run_mile\":[50,62,np.nan,30,56,87,103,50]})"
   ]
  },
  {
   "cell_type": "code",
   "execution_count": 21,
   "id": "10bfcb06-45cc-411a-812a-c57c1af71e3a",
   "metadata": {},
   "outputs": [],
   "source": [
    "from sklearn.impute import SimpleImputer"
   ]
  },
  {
   "cell_type": "code",
   "execution_count": 23,
   "id": "f9a61ecc-42af-42b8-a60c-5e9cca2f1a02",
   "metadata": {},
   "outputs": [],
   "source": [
    "imp_mean=SimpleImputer(strategy='mean')"
   ]
  },
  {
   "cell_type": "code",
   "execution_count": 25,
   "id": "88f8e7b1-810f-4aa7-a9c9-dc27d4424eb8",
   "metadata": {},
   "outputs": [
    {
     "data": {
      "text/html": [
       "<div>\n",
       "<style scoped>\n",
       "    .dataframe tbody tr th:only-of-type {\n",
       "        vertical-align: middle;\n",
       "    }\n",
       "\n",
       "    .dataframe tbody tr th {\n",
       "        vertical-align: top;\n",
       "    }\n",
       "\n",
       "    .dataframe thead th {\n",
       "        text-align: right;\n",
       "    }\n",
       "</style>\n",
       "<table border=\"1\" class=\"dataframe\">\n",
       "  <thead>\n",
       "    <tr style=\"text-align: right;\">\n",
       "      <th></th>\n",
       "      <th>farthest_run_mile</th>\n",
       "    </tr>\n",
       "  </thead>\n",
       "  <tbody>\n",
       "    <tr>\n",
       "      <th>0</th>\n",
       "      <td>50.0</td>\n",
       "    </tr>\n",
       "    <tr>\n",
       "      <th>1</th>\n",
       "      <td>62.0</td>\n",
       "    </tr>\n",
       "    <tr>\n",
       "      <th>2</th>\n",
       "      <td>NaN</td>\n",
       "    </tr>\n",
       "    <tr>\n",
       "      <th>3</th>\n",
       "      <td>30.0</td>\n",
       "    </tr>\n",
       "    <tr>\n",
       "      <th>4</th>\n",
       "      <td>56.0</td>\n",
       "    </tr>\n",
       "    <tr>\n",
       "      <th>5</th>\n",
       "      <td>87.0</td>\n",
       "    </tr>\n",
       "    <tr>\n",
       "      <th>6</th>\n",
       "      <td>103.0</td>\n",
       "    </tr>\n",
       "    <tr>\n",
       "      <th>7</th>\n",
       "      <td>50.0</td>\n",
       "    </tr>\n",
       "  </tbody>\n",
       "</table>\n",
       "</div>"
      ],
      "text/plain": [
       "   farthest_run_mile\n",
       "0               50.0\n",
       "1               62.0\n",
       "2                NaN\n",
       "3               30.0\n",
       "4               56.0\n",
       "5               87.0\n",
       "6              103.0\n",
       "7               50.0"
      ]
     },
     "execution_count": 25,
     "metadata": {},
     "output_type": "execute_result"
    }
   ],
   "source": [
    "miles"
   ]
  },
  {
   "cell_type": "code",
   "execution_count": 27,
   "id": "04332ecc-a521-4007-8e28-11fb8180b6df",
   "metadata": {},
   "outputs": [
    {
     "data": {
      "text/plain": [
       "farthest_run_mile    1\n",
       "dtype: int64"
      ]
     },
     "execution_count": 27,
     "metadata": {},
     "output_type": "execute_result"
    }
   ],
   "source": [
    "miles.isna().sum()"
   ]
  },
  {
   "cell_type": "code",
   "execution_count": 29,
   "id": "bf9c573a-2324-4dd0-ae8c-627bc9d0b46a",
   "metadata": {},
   "outputs": [
    {
     "data": {
      "text/plain": [
       "array([[ 50.        ],\n",
       "       [ 62.        ],\n",
       "       [ 62.57142857],\n",
       "       [ 30.        ],\n",
       "       [ 56.        ],\n",
       "       [ 87.        ],\n",
       "       [103.        ],\n",
       "       [ 50.        ]])"
      ]
     },
     "execution_count": 29,
     "metadata": {},
     "output_type": "execute_result"
    }
   ],
   "source": [
    "imp_mean.fit_transform(miles)"
   ]
  },
  {
   "cell_type": "code",
   "execution_count": 32,
   "id": "359cb94b-d7cf-4c19-a889-551b15e3c804",
   "metadata": {},
   "outputs": [],
   "source": [
    "imp_median=SimpleImputer(strategy='median')"
   ]
  },
  {
   "cell_type": "code",
   "execution_count": 34,
   "id": "483d5adb-9c98-4f3e-b472-25965c34054d",
   "metadata": {},
   "outputs": [
    {
     "data": {
      "text/plain": [
       "array([[ 50.],\n",
       "       [ 62.],\n",
       "       [ 56.],\n",
       "       [ 30.],\n",
       "       [ 56.],\n",
       "       [ 87.],\n",
       "       [103.],\n",
       "       [ 50.]])"
      ]
     },
     "execution_count": 34,
     "metadata": {},
     "output_type": "execute_result"
    }
   ],
   "source": [
    "imp_median.fit_transform(miles)"
   ]
  },
  {
   "cell_type": "code",
   "execution_count": 52,
   "id": "4c6236cb-33c7-4194-a922-1b8114b031cc",
   "metadata": {},
   "outputs": [],
   "source": [
    "imp_mode=SimpleImputer(strategy='most_frequent')"
   ]
  },
  {
   "cell_type": "code",
   "execution_count": 54,
   "id": "43646b33-c5d3-44bd-80e4-cf28efedba24",
   "metadata": {},
   "outputs": [
    {
     "data": {
      "text/plain": [
       "array([[ 50.],\n",
       "       [ 62.],\n",
       "       [ 50.],\n",
       "       [ 30.],\n",
       "       [ 56.],\n",
       "       [ 87.],\n",
       "       [103.],\n",
       "       [ 50.]])"
      ]
     },
     "execution_count": 54,
     "metadata": {},
     "output_type": "execute_result"
    }
   ],
   "source": [
    "imp_mode.fit_transform(miles)"
   ]
  },
  {
   "cell_type": "code",
   "execution_count": 58,
   "id": "f8155e6f-cbdb-4b01-baba-458d15f5a14d",
   "metadata": {},
   "outputs": [],
   "source": [
    "imp_conste=SimpleImputer(strategy='constant',fill_value=13)"
   ]
  },
  {
   "cell_type": "code",
   "execution_count": 60,
   "id": "9b35ee09-d841-4ee2-9271-9c9005e1f4d6",
   "metadata": {},
   "outputs": [
    {
     "data": {
      "text/plain": [
       "array([[ 50.],\n",
       "       [ 62.],\n",
       "       [ 13.],\n",
       "       [ 30.],\n",
       "       [ 56.],\n",
       "       [ 87.],\n",
       "       [103.],\n",
       "       [ 50.]])"
      ]
     },
     "execution_count": 60,
     "metadata": {},
     "output_type": "execute_result"
    }
   ],
   "source": [
    "imp_conste.fit_transform(miles)"
   ]
  },
  {
   "cell_type": "code",
   "execution_count": 64,
   "id": "c3991026-737b-433b-8bf0-0fe2d5d48cb8",
   "metadata": {},
   "outputs": [],
   "source": [
    "#Now for strings\n",
    "names=pd.DataFrame({'names':['Alan','Walker','Milo',np.nan,'Suraj','Jaya']})"
   ]
  },
  {
   "cell_type": "code",
   "execution_count": 66,
   "id": "913d5ab8-1ee3-4851-9a3e-d131b83dd36f",
   "metadata": {},
   "outputs": [
    {
     "data": {
      "text/html": [
       "<div>\n",
       "<style scoped>\n",
       "    .dataframe tbody tr th:only-of-type {\n",
       "        vertical-align: middle;\n",
       "    }\n",
       "\n",
       "    .dataframe tbody tr th {\n",
       "        vertical-align: top;\n",
       "    }\n",
       "\n",
       "    .dataframe thead th {\n",
       "        text-align: right;\n",
       "    }\n",
       "</style>\n",
       "<table border=\"1\" class=\"dataframe\">\n",
       "  <thead>\n",
       "    <tr style=\"text-align: right;\">\n",
       "      <th></th>\n",
       "      <th>names</th>\n",
       "    </tr>\n",
       "  </thead>\n",
       "  <tbody>\n",
       "    <tr>\n",
       "      <th>0</th>\n",
       "      <td>Alan</td>\n",
       "    </tr>\n",
       "    <tr>\n",
       "      <th>1</th>\n",
       "      <td>Walker</td>\n",
       "    </tr>\n",
       "    <tr>\n",
       "      <th>2</th>\n",
       "      <td>Milo</td>\n",
       "    </tr>\n",
       "    <tr>\n",
       "      <th>3</th>\n",
       "      <td>NaN</td>\n",
       "    </tr>\n",
       "    <tr>\n",
       "      <th>4</th>\n",
       "      <td>Suraj</td>\n",
       "    </tr>\n",
       "    <tr>\n",
       "      <th>5</th>\n",
       "      <td>Jaya</td>\n",
       "    </tr>\n",
       "  </tbody>\n",
       "</table>\n",
       "</div>"
      ],
      "text/plain": [
       "    names\n",
       "0    Alan\n",
       "1  Walker\n",
       "2    Milo\n",
       "3     NaN\n",
       "4   Suraj\n",
       "5    Jaya"
      ]
     },
     "execution_count": 66,
     "metadata": {},
     "output_type": "execute_result"
    }
   ],
   "source": [
    "names"
   ]
  },
  {
   "cell_type": "code",
   "execution_count": 76,
   "id": "1bea3bd0-9e16-4aee-9b2a-7dc2ca81b84b",
   "metadata": {},
   "outputs": [],
   "source": [
    "imp_const_cat=SimpleImputer(strategy='constant',fill_value='cat')"
   ]
  },
  {
   "cell_type": "code",
   "execution_count": 78,
   "id": "58d304a2-94c9-4e35-bfc7-98a47e4215a5",
   "metadata": {},
   "outputs": [
    {
     "data": {
      "text/plain": [
       "array([['Alan'],\n",
       "       ['Walker'],\n",
       "       ['Milo'],\n",
       "       ['cat'],\n",
       "       ['Suraj'],\n",
       "       ['Jaya']], dtype=object)"
      ]
     },
     "execution_count": 78,
     "metadata": {},
     "output_type": "execute_result"
    }
   ],
   "source": [
    "imp_const_cat.fit_transform(names)"
   ]
  },
  {
   "cell_type": "code",
   "execution_count": 80,
   "id": "b3b1052d-4aa3-4f85-83e3-b7c262b426f7",
   "metadata": {},
   "outputs": [],
   "source": [
    "imp_mean_add=SimpleImputer(strategy='mean',add_indicator=True)"
   ]
  },
  {
   "cell_type": "code",
   "execution_count": 82,
   "id": "3ba1507b-3fb9-4eae-ad00-25064bbec3e9",
   "metadata": {},
   "outputs": [
    {
     "data": {
      "text/plain": [
       "array([[ 50.        ,   0.        ],\n",
       "       [ 62.        ,   0.        ],\n",
       "       [ 62.57142857,   1.        ],\n",
       "       [ 30.        ,   0.        ],\n",
       "       [ 56.        ,   0.        ],\n",
       "       [ 87.        ,   0.        ],\n",
       "       [103.        ,   0.        ],\n",
       "       [ 50.        ,   0.        ]])"
      ]
     },
     "execution_count": 82,
     "metadata": {},
     "output_type": "execute_result"
    }
   ],
   "source": [
    "imp_mean_add.fit_transform(miles)"
   ]
  },
  {
   "cell_type": "code",
   "execution_count": 10,
   "id": "0c49d168-4e11-4b9e-97e4-1455f753c906",
   "metadata": {},
   "outputs": [],
   "source": [
    "# We do not have the dataset but this is how we can use the column_transformer and the video reference is https://youtu.be/0Hsj0h-tXAY?si=Wj2Kto3bbCngIUo5&t=585"
   ]
  },
  {
   "cell_type": "code",
   "execution_count": 6,
   "id": "4dd7b401-8780-4c8e-ba24-dcc0464cb61a",
   "metadata": {},
   "outputs": [],
   "source": [
    "df = pd.read_csv('simple_imputer_csv.csv')"
   ]
  },
  {
   "cell_type": "code",
   "execution_count": null,
   "id": "7b6b4d08-38ad-4da1-b31e-033f78fec59e",
   "metadata": {},
   "outputs": [],
   "source": [
    "from sklearn.compose import make_column_transformer"
   ]
  },
  {
   "cell_type": "code",
   "execution_count": null,
   "id": "20875c40-2688-42ab-bf5b-3e89ed35632b",
   "metadata": {},
   "outputs": [],
   "source": [
    "ct = make_column_transformer( (imp_constant_cat, ['Name']), (imp_mean, ['farthest_run_mi']), remainder='drop')"
   ]
  },
  {
   "cell_type": "code",
   "execution_count": null,
   "id": "6371f22b-edb5-473e-bc7f-87391d01e3e9",
   "metadata": {},
   "outputs": [],
   "source": [
    "ct.set_output(transform=\"pandas\")"
   ]
  },
  {
   "cell_type": "code",
   "execution_count": null,
   "id": "43ad4a7e-83b1-42e7-afa1-69cefda27f80",
   "metadata": {},
   "outputs": [],
   "source": [
    "df_pandas = ct.fit_transform(df)"
   ]
  },
  {
   "cell_type": "code",
   "execution_count": null,
   "id": "dd4c55f6-bd0d-430b-a9a5-db4a30fb32fc",
   "metadata": {},
   "outputs": [],
   "source": [
    "df_pandas"
   ]
  }
 ],
 "metadata": {
  "kernelspec": {
   "display_name": "Python [conda env:base] *",
   "language": "python",
   "name": "conda-base-py"
  },
  "language_info": {
   "codemirror_mode": {
    "name": "ipython",
    "version": 3
   },
   "file_extension": ".py",
   "mimetype": "text/x-python",
   "name": "python",
   "nbconvert_exporter": "python",
   "pygments_lexer": "ipython3",
   "version": "3.12.11"
  }
 },
 "nbformat": 4,
 "nbformat_minor": 5
}
