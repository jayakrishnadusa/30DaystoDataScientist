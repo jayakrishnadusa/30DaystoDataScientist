{
 "cells": [
  {
   "cell_type": "markdown",
   "id": "2a734355-ba69-46bc-9d5e-623d37fd359f",
   "metadata": {},
   "source": [
    "## LinearRegression(),SVM(),RandomForestClassifier()"
   ]
  },
  {
   "cell_type": "code",
   "execution_count": 113,
   "id": "69a63850-b981-499d-9483-cf7f1b0638b4",
   "metadata": {},
   "outputs": [],
   "source": [
    "from sklearn.linear_model import LogisticRegression\n",
    "import numpy as np\n",
    "from sklearn.ensemble import RandomForestClassifier\n",
    "from sklearn.svm import SVC\n",
    "from sklearn.datasets import load_digits\n",
    "digits=load_digits()"
   ]
  },
  {
   "cell_type": "code",
   "execution_count": 115,
   "id": "8ad5e737-a5a7-40b1-9874-9548cee4307f",
   "metadata": {},
   "outputs": [],
   "source": [
    "from sklearn.model_selection import train_test_split"
   ]
  },
  {
   "cell_type": "code",
   "execution_count": 117,
   "id": "2aba1a22-170a-4520-b4f2-2af40c69d63a",
   "metadata": {},
   "outputs": [],
   "source": [
    "X_train, X_test, y_train, y_test = train_test_split(digits.data, digits.target, test_size=0.33, random_state=42)"
   ]
  },
  {
   "cell_type": "code",
   "execution_count": 151,
   "id": "7bbcb9f9-2099-4e44-929c-e5fbf6402152",
   "metadata": {},
   "outputs": [
    {
     "data": {
      "text/plain": [
       "0.9148580968280468"
      ]
     },
     "execution_count": 151,
     "metadata": {},
     "output_type": "execute_result"
    }
   ],
   "source": [
    "# Faced an error for limited iterations so had to use this\n",
    "lr=LogisticRegression(max_iter=1000) \n",
    "lr.fit(X_train,y_train)\n",
    "lr.score(X_test,y_test)"
   ]
  },
  {
   "cell_type": "code",
   "execution_count": 153,
   "id": "4038428d-1d1a-46ea-8798-f7db16f6081f",
   "metadata": {},
   "outputs": [
    {
     "data": {
      "text/plain": [
       "0.9549248747913188"
      ]
     },
     "execution_count": 153,
     "metadata": {},
     "output_type": "execute_result"
    }
   ],
   "source": [
    "svm=SVC()\n",
    "svm.fit(X_train,y_train)\n",
    "svm.score(X_test,y_test)"
   ]
  },
  {
   "cell_type": "code",
   "execution_count": 155,
   "id": "480960d1-dc8d-4f1a-a65d-9a9aaea91610",
   "metadata": {},
   "outputs": [
    {
     "data": {
      "text/plain": [
       "0.9315525876460768"
      ]
     },
     "execution_count": 155,
     "metadata": {},
     "output_type": "execute_result"
    }
   ],
   "source": [
    "rfc=RandomForestClassifier()\n",
    "rfc.fit(X_train,y_train)\n",
    "rfc.score(X_test,y_test)"
   ]
  },
  {
   "cell_type": "code",
   "execution_count": 157,
   "id": "2c32d044-7601-43a3-8dc7-f567923e0053",
   "metadata": {},
   "outputs": [],
   "source": [
    "from sklearn.model_selection import KFold"
   ]
  },
  {
   "cell_type": "code",
   "execution_count": 159,
   "id": "dc770862-172a-4dcd-ab0f-553406d5fc66",
   "metadata": {},
   "outputs": [],
   "source": [
    "kf=KFold(n_splits=3, random_state=None, shuffle=False)"
   ]
  },
  {
   "cell_type": "code",
   "execution_count": 161,
   "id": "0138ada5-b513-44de-ada4-22993c93590c",
   "metadata": {},
   "outputs": [
    {
     "name": "stdout",
     "output_type": "stream",
     "text": [
      "[3 4 5 6 7 8] [0 1 2]\n",
      "[0 1 2 6 7 8] [3 4 5]\n",
      "[0 1 2 3 4 5] [6 7 8]\n"
     ]
    }
   ],
   "source": [
    ">>> for train_index, test_index in kf.split([1,2,3,4,5,6,7,8,9]):\n",
    "...  \n",
    "...     print(train_index,test_index)\n"
   ]
  },
  {
   "cell_type": "code",
   "execution_count": 163,
   "id": "60343902-31d9-46d1-9512-807ce9643b4f",
   "metadata": {},
   "outputs": [],
   "source": [
    "def get_score(model,X_train,X_test,y_train,y_test):\n",
    "    model.fit(X_train,y_train)\n",
    "    return model.score(X_test,y_test)"
   ]
  },
  {
   "cell_type": "code",
   "execution_count": 165,
   "id": "a0760686-2729-42f2-a42c-0ac85983ab78",
   "metadata": {},
   "outputs": [
    {
     "data": {
      "text/plain": [
       "0.9148580968280468"
      ]
     },
     "execution_count": 165,
     "metadata": {},
     "output_type": "execute_result"
    }
   ],
   "source": [
    "get_score(lr,X_train,X_test,y_train,y_test)"
   ]
  },
  {
   "cell_type": "code",
   "execution_count": 167,
   "id": "bb9ad50b-8f7d-4f92-91fe-c54b3eeb4eef",
   "metadata": {},
   "outputs": [
    {
     "data": {
      "text/plain": [
       "0.9549248747913188"
      ]
     },
     "execution_count": 167,
     "metadata": {},
     "output_type": "execute_result"
    }
   ],
   "source": [
    "get_score(svm,X_train,X_test,y_train,y_test)"
   ]
  },
  {
   "cell_type": "code",
   "execution_count": 169,
   "id": "62ef2653-061b-4463-ab33-6f5cb8de8f85",
   "metadata": {},
   "outputs": [
    {
     "data": {
      "text/plain": [
       "0.9298831385642737"
      ]
     },
     "execution_count": 169,
     "metadata": {},
     "output_type": "execute_result"
    }
   ],
   "source": [
    "get_score(rfc,X_train,X_test,y_train,y_test)"
   ]
  },
  {
   "cell_type": "code",
   "execution_count": 171,
   "id": "6f8da7a1-92dd-4724-843f-8f43eb6fe0ed",
   "metadata": {},
   "outputs": [],
   "source": [
    "from sklearn.model_selection import StratifiedKFold"
   ]
  },
  {
   "cell_type": "code",
   "execution_count": 173,
   "id": "dfbf823d-35be-4308-ad65-999eaf7d4b2c",
   "metadata": {},
   "outputs": [],
   "source": [
    "stf=StratifiedKFold(n_splits=3)"
   ]
  },
  {
   "cell_type": "code",
   "execution_count": 175,
   "id": "7b4b1eff-2ab0-4389-ba1f-6b89051511e2",
   "metadata": {},
   "outputs": [],
   "source": [
    "scores_lr=[]\n",
    "scores_svm=[]\n",
    "scores_rfc=[]\n",
    "for train_index, test_index in kf.split(digits.data) :\n",
    "    X_train,X_test,y_train,y_test=digits.data[train_index],digits.data[test_index],\\\n",
    "    digits.target[train_index],digits.target[test_index]\n",
    "    scores_lr.append(get_score(lr,X_train,X_test,y_train,y_test))\n",
    "    scores_svm.append(get_score(svm,X_train,X_test,y_train,y_test))\n",
    "    scores_rfc.append(get_score(rfc,X_train,X_test,y_train,y_test))\n",
    "# The use of max_iter=1000 parameter in LogisticRegression() helped solve the issue for limited iterations. Chnage/Remove the iterations to understand the error"
   ]
  },
  {
   "cell_type": "code",
   "execution_count": 178,
   "id": "9b58cc5d-88f4-44cf-b334-c0131751020f",
   "metadata": {},
   "outputs": [
    {
     "data": {
      "text/plain": [
       "([0.9248747913188647, 0.9432387312186978, 0.9148580968280468],\n",
       " [0.9666110183639399, 0.9816360601001669, 0.9549248747913188],\n",
       " [0.9415692821368948, 0.9565943238731218, 0.9232053422370617])"
      ]
     },
     "execution_count": 178,
     "metadata": {},
     "output_type": "execute_result"
    }
   ],
   "source": [
    "scores_lr,scores_svm,scores_rfc"
   ]
  },
  {
   "cell_type": "markdown",
   "id": "d1873bca-2a00-4e6d-a68c-c2e7004c2d50",
   "metadata": {},
   "source": [
    "## CrossValScore"
   ]
  },
  {
   "cell_type": "code",
   "execution_count": 185,
   "id": "6c873a85-9422-4af3-866f-9934a9d0ffd6",
   "metadata": {},
   "outputs": [],
   "source": [
    "# Instead calculating all like in above using a crossvalscore to compare is a built in package"
   ]
  },
  {
   "cell_type": "code",
   "execution_count": 187,
   "id": "3193fc02-973a-4919-aff7-41bf8a7085d0",
   "metadata": {},
   "outputs": [],
   "source": [
    "from sklearn.model_selection import cross_val_score"
   ]
  },
  {
   "cell_type": "code",
   "execution_count": 193,
   "id": "1c4ad1e7-8f85-43fb-80c9-ebe6622a7d7d",
   "metadata": {},
   "outputs": [
    {
     "data": {
      "text/plain": [
       "array([0.92222222, 0.87222222, 0.94150418, 0.94150418, 0.89693593])"
      ]
     },
     "execution_count": 193,
     "metadata": {},
     "output_type": "execute_result"
    }
   ],
   "source": [
    "cross_val_score(LogisticRegression(max_iter=1000),digits.data,digits.target)"
   ]
  },
  {
   "cell_type": "code",
   "execution_count": 195,
   "id": "6cf8e2c0-491d-4abc-8866-f74d1446b0c6",
   "metadata": {},
   "outputs": [
    {
     "data": {
      "text/plain": [
       "array([0.96111111, 0.94444444, 0.98328691, 0.98885794, 0.93871866])"
      ]
     },
     "execution_count": 195,
     "metadata": {},
     "output_type": "execute_result"
    }
   ],
   "source": [
    "cross_val_score(SVC(),digits.data,digits.target)"
   ]
  },
  {
   "cell_type": "code",
   "execution_count": 203,
   "id": "ffd314c7-b5e7-4405-a059-5994a952b0c5",
   "metadata": {},
   "outputs": [
    {
     "data": {
      "text/plain": [
       "array([0.922, 0.911, 0.958, 0.967, 0.914])"
      ]
     },
     "execution_count": 203,
     "metadata": {},
     "output_type": "execute_result"
    }
   ],
   "source": [
    "cross_val_score(RandomForestClassifier(n_estimators=40),digits.data,digits.target).round(3)"
   ]
  }
 ],
 "metadata": {
  "kernelspec": {
   "display_name": "Python [conda env:base] *",
   "language": "python",
   "name": "conda-base-py"
  },
  "language_info": {
   "codemirror_mode": {
    "name": "ipython",
    "version": 3
   },
   "file_extension": ".py",
   "mimetype": "text/x-python",
   "name": "python",
   "nbconvert_exporter": "python",
   "pygments_lexer": "ipython3",
   "version": "3.12.11"
  }
 },
 "nbformat": 4,
 "nbformat_minor": 5
}
